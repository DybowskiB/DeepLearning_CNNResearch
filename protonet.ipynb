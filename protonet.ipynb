{
  "cells": [
    {
      "cell_type": "markdown",
      "metadata": {
        "id": "DBKFC_3U294f"
      },
      "source": [
        "# Deep Learning Project: CNN"
      ]
    },
    {
      "cell_type": "markdown",
      "metadata": {
        "id": "4Pa2R9IK3Ccf"
      },
      "source": [
        "## Import"
      ]
    },
    {
      "cell_type": "code",
      "execution_count": null,
      "metadata": {
        "id": "cGsgkz563K9X"
      },
      "outputs": [],
      "source": [
        "import torch\n",
        "import torch.nn as nn\n",
        "import torch.optim as optim\n",
        "import torchvision.transforms as transforms\n",
        "from torch.utils.data import Dataset, DataLoader, Subset, TensorDataset\n",
        "from torchvision.datasets import ImageFolder\n",
        "import torch.nn.functional as F\n",
        "from sklearn.metrics import accuracy_score, confusion_matrix, ConfusionMatrixDisplay\n",
        "import matplotlib.pyplot as plt\n",
        "import seaborn as sns\n",
        "import numpy as np\n",
        "import random\n",
        "import os\n",
        "import shutil\n",
        "import kagglehub\n",
        "import gc"
      ]
    },
    {
      "cell_type": "markdown",
      "metadata": {
        "id": "TIh74b6G3P3-"
      },
      "source": [
        "## Configuration"
      ]
    },
    {
      "cell_type": "code",
      "execution_count": null,
      "metadata": {
        "id": "T2-s1zxz3Tam"
      },
      "outputs": [],
      "source": [
        "seed = 1\n",
        "batch_size = 16\n",
        "learning_rate = 0.001\n",
        "\n",
        "model_dir = \"/content/ovr_models\"\n",
        "os.makedirs(model_dir, exist_ok=True)"
      ]
    },
    {
      "cell_type": "markdown",
      "metadata": {
        "id": "bnYjfAVJ3XW-"
      },
      "source": [
        "## Device"
      ]
    },
    {
      "cell_type": "code",
      "execution_count": null,
      "metadata": {
        "colab": {
          "base_uri": "https://localhost:8080/"
        },
        "id": "t-dS1F7z3XD_",
        "outputId": "ba7d5a07-a820-4e04-b7f3-009b86f0cbed"
      },
      "outputs": [],
      "source": [
        "device = torch.device(\"cuda\" if torch.cuda.is_available() else \"cpu\")\n",
        "print(f\"Use device: {device}\")"
      ]
    },
    {
      "cell_type": "markdown",
      "metadata": {
        "id": "P0TeDf9c3go_"
      },
      "source": [
        "## Seed"
      ]
    },
    {
      "cell_type": "code",
      "execution_count": null,
      "metadata": {
        "id": "_8MewlXL3iYv"
      },
      "outputs": [],
      "source": [
        "def set_seed(seed):\n",
        "    torch.manual_seed(seed)\n",
        "    torch.cuda.manual_seed_all(seed)\n",
        "    np.random.seed(seed)\n",
        "    random.seed(seed)\n",
        "    torch.backends.cudnn.deterministic = True\n",
        "    torch.backends.cudnn.benchmark = False\n",
        "\n",
        "set_seed(seed)"
      ]
    },
    {
      "cell_type": "markdown",
      "metadata": {
        "id": "6YHPJlJg3tTe"
      },
      "source": [
        "## Download dataset"
      ]
    },
    {
      "cell_type": "code",
      "execution_count": null,
      "metadata": {
        "id": "fcO3jGbJ3x3O"
      },
      "outputs": [],
      "source": [
        "cinic_path = kagglehub.dataset_download(\"mengcius/cinic10\")"
      ]
    },
    {
      "cell_type": "markdown",
      "metadata": {
        "id": "oR7_LreXfONH"
      },
      "source": [
        "## Fewshot dataset"
      ]
    },
    {
      "cell_type": "code",
      "execution_count": null,
      "metadata": {
        "id": "x5R_WcK0fRId"
      },
      "outputs": [],
      "source": [
        "class FewShotDataset(Dataset):\n",
        "    def __init__(self, dataset, n_way, k_shot, n_query, limit_per_class):\n",
        "        self.dataset = dataset\n",
        "        self.n_way = n_way\n",
        "        self.k_shot = k_shot\n",
        "        self.n_query = n_query\n",
        "        self.class_to_indices = self.build_index(limit_per_class)\n",
        "\n",
        "    def build_index(self, limit):\n",
        "        class_to_indices = {}\n",
        "        for idx, (_, label) in enumerate(self.dataset):\n",
        "            class_to_indices.setdefault(label, []).append(idx)\n",
        "        return {k: v[:limit] for k, v in class_to_indices.items() if len(v) >= self.k_shot + self.n_query}\n",
        "\n",
        "    def __getitem__(self, index):\n",
        "        classes = random.sample(list(self.class_to_indices.keys()), self.n_way)\n",
        "        support_images, query_images, query_labels = [], [], []\n",
        "        for i, cls in enumerate(classes):\n",
        "            indices = random.sample(self.class_to_indices[cls], self.k_shot + self.n_query)\n",
        "            support = [self.dataset[idx][0] for idx in indices[:self.k_shot]]\n",
        "            query = [self.dataset[idx][0] for idx in indices[self.k_shot:]]\n",
        "            support_images.append(torch.stack(support))  # [k_shot, C, H, W]\n",
        "            query_images.append(torch.stack(query))      # [n_query, C, H, W]\n",
        "            query_labels += [i] * self.n_query\n",
        "\n",
        "        support_images = torch.stack(support_images)  # [n_way, k_shot, C, H, W]\n",
        "        query_images = torch.stack(query_images)      # [n_way, n_query, C, H, W]\n",
        "        return support_images, query_images, torch.tensor(query_labels)\n",
        "\n",
        "    def __len__(self):\n",
        "        return 1000"
      ]
    },
    {
      "cell_type": "markdown",
      "metadata": {
        "id": "nsakehYt3_lW"
      },
      "source": [
        "## Init sets"
      ]
    },
    {
      "cell_type": "code",
      "execution_count": null,
      "metadata": {
        "id": "y4x3TDtL37Q1"
      },
      "outputs": [],
      "source": [
        "transform = transforms.Compose([\n",
        "    transforms.ToTensor(),\n",
        "])\n",
        "\n",
        "train_set = ImageFolder(f\"{cinic_path}/train\", transform=transform)\n",
        "valid_set = ImageFolder(f\"{cinic_path}/valid\", transform=transform)\n",
        "test_set = ImageFolder(f\"{cinic_path}/test\", transform=transform)\n",
        "classes = train_set.classes"
      ]
    },
    {
      "cell_type": "markdown",
      "metadata": {
        "id": "5a--Rd9l4Ce2"
      },
      "source": [
        "## Model definition"
      ]
    },
    {
      "cell_type": "code",
      "execution_count": null,
      "metadata": {
        "id": "Yv_ZbuCj4E9N"
      },
      "outputs": [],
      "source": [
        "class FewShotEncoder(nn.Module):\n",
        "    def __init__(self):\n",
        "        super(FewShotEncoder, self).__init__()\n",
        "        self.encoder = nn.Sequential(\n",
        "            nn.Conv2d(3, 64, kernel_size=3, padding=1),\n",
        "            nn.BatchNorm2d(64),\n",
        "            nn.ReLU(),\n",
        "            nn.MaxPool2d(2),\n",
        "\n",
        "            nn.Conv2d(64, 64, kernel_size=3, padding=1),\n",
        "            nn.BatchNorm2d(64),\n",
        "            nn.ReLU(),\n",
        "            nn.MaxPool2d(2),\n",
        "\n",
        "            nn.Conv2d(64, 64, kernel_size=3, padding=1),\n",
        "            nn.BatchNorm2d(64),\n",
        "            nn.ReLU(),\n",
        "            nn.MaxPool2d(2),\n",
        "\n",
        "            nn.Flatten()\n",
        "        )\n",
        "\n",
        "    def forward(self, x):\n",
        "        return self.encoder(x)\n",
        "\n",
        "class PrototypicalNetwork(nn.Module):\n",
        "    def __init__(self, encoder, n_way, k_shot, n_query):\n",
        "        super().__init__()\n",
        "        self.encoder = encoder\n",
        "        self.n_way = n_way\n",
        "        self.k_shot = k_shot\n",
        "        self.n_query = n_query\n",
        "\n",
        "    def forward(self, support, query):\n",
        "        batch_size = support.size(0)\n",
        "        support = support.view(batch_size * self.n_way * self.k_shot, *support.shape[3:])\n",
        "        query = query.view(batch_size * self.n_way * self.n_query, *query.shape[3:])\n",
        "\n",
        "        z_support = self.encoder(support)\n",
        "        z_query = self.encoder(query)\n",
        "\n",
        "        z_support = z_support.view(batch_size, self.n_way, self.k_shot, -1)\n",
        "        prototypes = z_support.mean(dim=2)  # (B, n_way, D)\n",
        "\n",
        "        z_query = z_query.view(batch_size, self.n_way * self.n_query, -1)\n",
        "\n",
        "        dists = torch.cdist(z_query, prototypes)  # (B, Q, n_way)\n",
        "        return -dists\n",
        "\n"
      ]
    },
    {
      "cell_type": "markdown",
      "metadata": {
        "id": "4Sopsh9l4SSt"
      },
      "source": [
        "## Train"
      ]
    },
    {
      "cell_type": "code",
      "execution_count": null,
      "metadata": {
        "id": "JWVUF2aQ4Tuv"
      },
      "outputs": [],
      "source": [
        "def train_protonet(model, loader, optimizer, device, epochs=10):\n",
        "    model.train()\n",
        "    for epoch in range(epochs):\n",
        "        total_loss, correct, total = 0, 0, 0\n",
        "        for support, query, labels in loader:\n",
        "            support, query, labels = support.to(device), query.to(device), labels.to(device)\n",
        "            logits = model(support, query)\n",
        "\n",
        "            logits = logits.view(-1, model.n_way)\n",
        "            labels = labels.view(-1)\n",
        "\n",
        "            loss = F.cross_entropy(logits, labels)\n",
        "            optimizer.zero_grad()\n",
        "            loss.backward()\n",
        "            optimizer.step()\n",
        "\n",
        "            total_loss += loss.item()\n",
        "            preds = torch.argmax(logits, dim=1)\n",
        "            correct += (preds == labels).sum().item()\n",
        "            total += labels.size(0)\n",
        "\n",
        "        acc = correct / total\n",
        "        print(f\"Epoch {epoch+1}, Loss: {total_loss:.4f}, Accuracy: {acc*100:.2f}%\")"
      ]
    },
    {
      "cell_type": "markdown",
      "metadata": {
        "id": "_9DXrNSR4a6-"
      },
      "source": [
        "## Evaluation"
      ]
    },
    {
      "cell_type": "code",
      "execution_count": null,
      "metadata": {
        "id": "xtdfrrdi4c4d"
      },
      "outputs": [],
      "source": [
        "def evaluate_protonet(model, loader, device):\n",
        "    model.eval()\n",
        "    all_preds, all_labels = [], []\n",
        "    with torch.no_grad():\n",
        "        for support, query, labels in loader:\n",
        "            support, query = support.to(device), query.to(device)\n",
        "            logits = model(support, query)\n",
        "            logits = logits.view(-1, model.n_way)\n",
        "            preds = torch.argmax(logits, dim=1)\n",
        "            all_preds.extend(preds.cpu().numpy())\n",
        "            all_labels.extend(labels.view(-1).cpu().numpy())\n",
        "\n",
        "    acc = accuracy_score(all_labels, all_preds)\n",
        "    print(f\"Test accuracy: {acc*100:.2f}%\")\n",
        "\n",
        "    cm = confusion_matrix(all_labels, all_preds)\n",
        "    plt.figure(figsize=(8,6))\n",
        "    sns.heatmap(cm, annot=True, fmt='d', cmap='Blues')\n",
        "    plt.xlabel(\"Predicted\")\n",
        "    plt.ylabel(\"True\")\n",
        "    plt.title(\"Confusion Matrix\")\n",
        "    plt.show()\n"
      ]
    },
    {
      "cell_type": "markdown",
      "metadata": {
        "id": "wJQnQeMP3Fxz"
      },
      "source": [
        "## Parameters"
      ]
    },
    {
      "cell_type": "code",
      "execution_count": null,
      "metadata": {
        "id": "Fp8FVJmv3IDR"
      },
      "outputs": [],
      "source": [
        "n_way = 10                # liczba klas w epizodzie\n",
        "k_shot = 5                # liczba przykładów na klasę (support)\n",
        "n_query = 15              # liczba przykładów na klasę (query)\n",
        "limit_per_class = 100     # maksymalna liczba przykładów na klasę w całym zbiorze\n",
        "learning_rate = 0.001"
      ]
    },
    {
      "cell_type": "markdown",
      "metadata": {
        "id": "Xrzel04_mJqX"
      },
      "source": [
        "## Load"
      ]
    },
    {
      "cell_type": "code",
      "execution_count": null,
      "metadata": {
        "id": "Vj9Z2OT7mLcj"
      },
      "outputs": [],
      "source": [
        "train_loader = DataLoader(FewShotDataset(train_set, n_way=n_way, k_shot=k_shot, n_query=n_query, limit_per_class=100), batch_size=batch_size, shuffle=True)\n",
        "valid_loader = DataLoader(FewShotDataset(valid_set, n_way=n_way, k_shot=k_shot, n_query=n_query, limit_per_class=100), batch_size=batch_size)\n",
        "test_loader  = DataLoader(FewShotDataset(test_set,  n_way=n_way, k_shot=k_shot, n_query=n_query, limit_per_class=100), batch_size=batch_size)"
      ]
    },
    {
      "cell_type": "markdown",
      "metadata": {
        "id": "A-kwSpmB4kql"
      },
      "source": [
        "## Train"
      ]
    },
    {
      "cell_type": "code",
      "execution_count": null,
      "metadata": {
        "colab": {
          "base_uri": "https://localhost:8080/"
        },
        "id": "kIYngaTY4nK1",
        "outputId": "00a486fa-29ed-4cbf-8513-b85e266bdead"
      },
      "outputs": [],
      "source": [
        "encoder = FewShotEncoder().to(device)\n",
        "model = PrototypicalNetwork(encoder, n_way=n_way, k_shot=k_shot, n_query=n_query).to(device)\n",
        "optimizer = torch.optim.Adam(model.parameters(), lr=learning_rate)\n",
        "\n",
        "train_protonet(model, train_loader, optimizer, device, epochs=5)"
      ]
    },
    {
      "cell_type": "markdown",
      "metadata": {
        "id": "f5n6aA3xf7FN"
      },
      "source": [
        "## Evaluate"
      ]
    },
    {
      "cell_type": "code",
      "execution_count": null,
      "metadata": {
        "id": "n4fZGW8af8T0"
      },
      "outputs": [],
      "source": [
        "evaluate_protonet(model, test_loader, device)"
      ]
    },
    {
      "cell_type": "markdown",
      "metadata": {
        "id": "8saBnEBG393-"
      },
      "source": []
    }
  ],
  "metadata": {
    "accelerator": "GPU",
    "colab": {
      "gpuType": "T4",
      "provenance": [],
      "toc_visible": true
    },
    "kernelspec": {
      "display_name": "Python 3",
      "name": "python3"
    },
    "language_info": {
      "name": "python"
    }
  },
  "nbformat": 4,
  "nbformat_minor": 0
}
